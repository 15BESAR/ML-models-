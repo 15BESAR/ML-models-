{
  "nbformat": 4,
  "nbformat_minor": 0,
  "metadata": {
    "colab": {
      "name": "Uv-Temprature Testing Model",
      "provenance": [],
      "collapsed_sections": []
    },
    "kernelspec": {
      "name": "python3",
      "display_name": "Python 3"
    },
    "language_info": {
      "name": "python"
    }
  },
  "cells": [
    {
      "cell_type": "code",
      "execution_count": 173,
      "metadata": {
        "colab": {
          "base_uri": "https://localhost:8080/"
        },
        "id": "1FrmYy05NUJy",
        "outputId": "54e885e9-7531-4a88-d99d-883c7c0325cb"
      },
      "outputs": [
        {
          "output_type": "stream",
          "name": "stdout",
          "text": [
            "Drive already mounted at /gdrive; to attempt to forcibly remount, call drive.mount(\"/gdrive\", force_remount=True).\n"
          ]
        }
      ],
      "source": [
        "import numpy as np\n",
        "import pandas as pd\n",
        "import tensorflow as tf\n",
        "import matplotlib.pyplot as plt\n",
        "import math \n",
        "from tensorflow import keras\n",
        "\n",
        "from google.colab import drive\n",
        "drive.mount('/gdrive')"
      ]
    },
    {
      "cell_type": "markdown",
      "source": [
        "Uv-Model Testing"
      ],
      "metadata": {
        "id": "jPru6cxuAyzP"
      }
    },
    {
      "cell_type": "code",
      "source": [
        "UvModel = tf.keras.models.load_model('/gdrive/MyDrive/saved_model/UvRadiation2')\n",
        "# Check its architecture\n",
        "UvModel.summary()"
      ],
      "metadata": {
        "colab": {
          "base_uri": "https://localhost:8080/"
        },
        "id": "5qLVdbpbNb3W",
        "outputId": "a638396a-b587-462e-d2ba-187da0c8a949"
      },
      "execution_count": 184,
      "outputs": [
        {
          "output_type": "stream",
          "name": "stdout",
          "text": [
            "Model: \"sequential\"\n",
            "_________________________________________________________________\n",
            " Layer (type)                Output Shape              Param #   \n",
            "=================================================================\n",
            " conv1d (Conv1D)             (None, None, 60)          360       \n",
            "                                                                 \n",
            " lstm (LSTM)                 (None, None, 64)          32000     \n",
            "                                                                 \n",
            " lstm_1 (LSTM)               (None, None, 128)         98816     \n",
            "                                                                 \n",
            " dense (Dense)               (None, None, 60)          7740      \n",
            "                                                                 \n",
            " dropout (Dropout)           (None, None, 60)          0         \n",
            "                                                                 \n",
            " dense_1 (Dense)             (None, None, 10)          610       \n",
            "                                                                 \n",
            " dense_2 (Dense)             (None, None, 1)           11        \n",
            "                                                                 \n",
            " lambda (Lambda)             (None, None, 1)           0         \n",
            "                                                                 \n",
            "=================================================================\n",
            "Total params: 139,537\n",
            "Trainable params: 139,537\n",
            "Non-trainable params: 0\n",
            "_________________________________________________________________\n"
          ]
        }
      ]
    },
    {
      "cell_type": "code",
      "source": [
        "cobacoba3 = np.random.randint(20,150,27) #random numbers for forecasting uv "
      ],
      "metadata": {
        "id": "Qf2rxgU6O6Z3"
      },
      "execution_count": 185,
      "outputs": []
    },
    {
      "cell_type": "code",
      "source": [
        "#predicting UV\n",
        "window_size=24\n",
        "def model_forecast(model, series, window_size):\n",
        "    ds = tf.data.Dataset.from_tensor_slices(series)\n",
        "    ds = ds.window(window_size, shift=1, drop_remainder=True)\n",
        "    ds = ds.flat_map(lambda w: w.batch(window_size))\n",
        "    ds = ds.batch(32).prefetch(1)\n",
        "    forecast = model.predict(ds)\n",
        "    return forecast\n",
        "\n",
        "def cvrttolist (listy) : \n",
        "  return listy.tolist()\n",
        "def extenddf(df,forecast):\n",
        "  a= cvrttolist(df)\n",
        "  b=cvrttolist(forecast)\n",
        "  a.extend(b)\n",
        "  return np.array(a) \n",
        "\n",
        "\n",
        "def forecastuv (df, hour):\n",
        "  for nextuv in range(hour) :\n",
        "    lstm_forecast2 = model_forecast(UvModel, df[..., np.newaxis], window_size)\n",
        "    lstm_forecast2 = lstm_forecast2[((len(df)-1) - window_size):-1, -1, 0]\n",
        "    df=extenddf(df,lstm_forecast2)\n",
        "\n",
        "    lstm_forecast2 = model_forecast(UvModel, df[..., np.newaxis], window_size)\n",
        "    lstm_forecast2 = lstm_forecast2[((len(df))-1 - window_size):-1, -1, 0]\n",
        "    df = extenddf(df,lstm_forecast2)\n",
        "\n",
        "    df=cvrttolist(df)\n",
        "    a=df[-2]\n",
        "    df.remove(a)\n",
        "    df=np.array(df)\n",
        "\n",
        "  return cvrttolist(df[-hour:])\n",
        "\n",
        "def maketotableuv(thelist):\n",
        "  frames = {  \"Hour Forecast\":list(range(1,(len(thelist)) +1 ))  ,\"UV-Forecast\" :thelist   }\n",
        "  dfforecast = pd.DataFrame(frames)\n",
        "  return (dfforecast)\n",
        "\n",
        "\n",
        "maketotableuv(forecastuv(cobacoba3,4))\n"
      ],
      "metadata": {
        "colab": {
          "base_uri": "https://localhost:8080/",
          "height": 175
        },
        "id": "KKkcYSMnNoX5",
        "outputId": "f951572a-fb0d-43fb-ed88-f93273a81e1b"
      },
      "execution_count": 186,
      "outputs": [
        {
          "output_type": "execute_result",
          "data": {
            "text/plain": [
              "   Hour Forecast  UV-Forecast\n",
              "0              1    58.417686\n",
              "1              2    31.794151\n",
              "2              3     9.958142\n",
              "3              4    21.467728"
            ],
            "text/html": [
              "\n",
              "  <div id=\"df-78c5c708-af51-4698-8101-2981d5e2208d\">\n",
              "    <div class=\"colab-df-container\">\n",
              "      <div>\n",
              "<style scoped>\n",
              "    .dataframe tbody tr th:only-of-type {\n",
              "        vertical-align: middle;\n",
              "    }\n",
              "\n",
              "    .dataframe tbody tr th {\n",
              "        vertical-align: top;\n",
              "    }\n",
              "\n",
              "    .dataframe thead th {\n",
              "        text-align: right;\n",
              "    }\n",
              "</style>\n",
              "<table border=\"1\" class=\"dataframe\">\n",
              "  <thead>\n",
              "    <tr style=\"text-align: right;\">\n",
              "      <th></th>\n",
              "      <th>Hour Forecast</th>\n",
              "      <th>UV-Forecast</th>\n",
              "    </tr>\n",
              "  </thead>\n",
              "  <tbody>\n",
              "    <tr>\n",
              "      <th>0</th>\n",
              "      <td>1</td>\n",
              "      <td>58.417686</td>\n",
              "    </tr>\n",
              "    <tr>\n",
              "      <th>1</th>\n",
              "      <td>2</td>\n",
              "      <td>31.794151</td>\n",
              "    </tr>\n",
              "    <tr>\n",
              "      <th>2</th>\n",
              "      <td>3</td>\n",
              "      <td>9.958142</td>\n",
              "    </tr>\n",
              "    <tr>\n",
              "      <th>3</th>\n",
              "      <td>4</td>\n",
              "      <td>21.467728</td>\n",
              "    </tr>\n",
              "  </tbody>\n",
              "</table>\n",
              "</div>\n",
              "      <button class=\"colab-df-convert\" onclick=\"convertToInteractive('df-78c5c708-af51-4698-8101-2981d5e2208d')\"\n",
              "              title=\"Convert this dataframe to an interactive table.\"\n",
              "              style=\"display:none;\">\n",
              "        \n",
              "  <svg xmlns=\"http://www.w3.org/2000/svg\" height=\"24px\"viewBox=\"0 0 24 24\"\n",
              "       width=\"24px\">\n",
              "    <path d=\"M0 0h24v24H0V0z\" fill=\"none\"/>\n",
              "    <path d=\"M18.56 5.44l.94 2.06.94-2.06 2.06-.94-2.06-.94-.94-2.06-.94 2.06-2.06.94zm-11 1L8.5 8.5l.94-2.06 2.06-.94-2.06-.94L8.5 2.5l-.94 2.06-2.06.94zm10 10l.94 2.06.94-2.06 2.06-.94-2.06-.94-.94-2.06-.94 2.06-2.06.94z\"/><path d=\"M17.41 7.96l-1.37-1.37c-.4-.4-.92-.59-1.43-.59-.52 0-1.04.2-1.43.59L10.3 9.45l-7.72 7.72c-.78.78-.78 2.05 0 2.83L4 21.41c.39.39.9.59 1.41.59.51 0 1.02-.2 1.41-.59l7.78-7.78 2.81-2.81c.8-.78.8-2.07 0-2.86zM5.41 20L4 18.59l7.72-7.72 1.47 1.35L5.41 20z\"/>\n",
              "  </svg>\n",
              "      </button>\n",
              "      \n",
              "  <style>\n",
              "    .colab-df-container {\n",
              "      display:flex;\n",
              "      flex-wrap:wrap;\n",
              "      gap: 12px;\n",
              "    }\n",
              "\n",
              "    .colab-df-convert {\n",
              "      background-color: #E8F0FE;\n",
              "      border: none;\n",
              "      border-radius: 50%;\n",
              "      cursor: pointer;\n",
              "      display: none;\n",
              "      fill: #1967D2;\n",
              "      height: 32px;\n",
              "      padding: 0 0 0 0;\n",
              "      width: 32px;\n",
              "    }\n",
              "\n",
              "    .colab-df-convert:hover {\n",
              "      background-color: #E2EBFA;\n",
              "      box-shadow: 0px 1px 2px rgba(60, 64, 67, 0.3), 0px 1px 3px 1px rgba(60, 64, 67, 0.15);\n",
              "      fill: #174EA6;\n",
              "    }\n",
              "\n",
              "    [theme=dark] .colab-df-convert {\n",
              "      background-color: #3B4455;\n",
              "      fill: #D2E3FC;\n",
              "    }\n",
              "\n",
              "    [theme=dark] .colab-df-convert:hover {\n",
              "      background-color: #434B5C;\n",
              "      box-shadow: 0px 1px 3px 1px rgba(0, 0, 0, 0.15);\n",
              "      filter: drop-shadow(0px 1px 2px rgba(0, 0, 0, 0.3));\n",
              "      fill: #FFFFFF;\n",
              "    }\n",
              "  </style>\n",
              "\n",
              "      <script>\n",
              "        const buttonEl =\n",
              "          document.querySelector('#df-78c5c708-af51-4698-8101-2981d5e2208d button.colab-df-convert');\n",
              "        buttonEl.style.display =\n",
              "          google.colab.kernel.accessAllowed ? 'block' : 'none';\n",
              "\n",
              "        async function convertToInteractive(key) {\n",
              "          const element = document.querySelector('#df-78c5c708-af51-4698-8101-2981d5e2208d');\n",
              "          const dataTable =\n",
              "            await google.colab.kernel.invokeFunction('convertToInteractive',\n",
              "                                                     [key], {});\n",
              "          if (!dataTable) return;\n",
              "\n",
              "          const docLinkHtml = 'Like what you see? Visit the ' +\n",
              "            '<a target=\"_blank\" href=https://colab.research.google.com/notebooks/data_table.ipynb>data table notebook</a>'\n",
              "            + ' to learn more about interactive tables.';\n",
              "          element.innerHTML = '';\n",
              "          dataTable['output_type'] = 'display_data';\n",
              "          await google.colab.output.renderOutput(dataTable, element);\n",
              "          const docLink = document.createElement('div');\n",
              "          docLink.innerHTML = docLinkHtml;\n",
              "          element.appendChild(docLink);\n",
              "        }\n",
              "      </script>\n",
              "    </div>\n",
              "  </div>\n",
              "  "
            ]
          },
          "metadata": {},
          "execution_count": 186
        }
      ]
    },
    {
      "cell_type": "markdown",
      "source": [
        "### TEMPRATURE Model Testing"
      ],
      "metadata": {
        "id": "DENyKwdxA0sb"
      }
    },
    {
      "cell_type": "code",
      "source": [
        "Temprature = tf.keras.models.load_model('/gdrive/MyDrive/saved_model/Temprature')\n",
        "# Check its architecture\n",
        "Temprature.summary()"
      ],
      "metadata": {
        "id": "P0Mnq1nnPSyN",
        "colab": {
          "base_uri": "https://localhost:8080/"
        },
        "outputId": "46d6193b-0959-4ecb-f19a-7c6ed8bf15a1"
      },
      "execution_count": 177,
      "outputs": [
        {
          "output_type": "stream",
          "name": "stdout",
          "text": [
            "Model: \"sequential\"\n",
            "_________________________________________________________________\n",
            " Layer (type)                Output Shape              Param #   \n",
            "=================================================================\n",
            " conv1d (Conv1D)             (None, None, 60)          360       \n",
            "                                                                 \n",
            " lstm (LSTM)                 (None, None, 64)          32000     \n",
            "                                                                 \n",
            " lstm_1 (LSTM)               (None, None, 64)          33024     \n",
            "                                                                 \n",
            " dense (Dense)               (None, None, 30)          1950      \n",
            "                                                                 \n",
            " dense_1 (Dense)             (None, None, 10)          310       \n",
            "                                                                 \n",
            " dense_2 (Dense)             (None, None, 1)           11        \n",
            "                                                                 \n",
            " lambda (Lambda)             (None, None, 1)           0         \n",
            "                                                                 \n",
            "=================================================================\n",
            "Total params: 67,655\n",
            "Trainable params: 67,655\n",
            "Non-trainable params: 0\n",
            "_________________________________________________________________\n"
          ]
        }
      ]
    },
    {
      "cell_type": "code",
      "source": [
        "cobacoba2 = np.random.randint(25,35,70) #random trial dataset for temprature\n",
        "cobacoba2"
      ],
      "metadata": {
        "colab": {
          "base_uri": "https://localhost:8080/"
        },
        "id": "hJAcE62kIFNe",
        "outputId": "f9d5cfe9-039d-449b-eb92-c4bac5463cf4"
      },
      "execution_count": 178,
      "outputs": [
        {
          "output_type": "execute_result",
          "data": {
            "text/plain": [
              "array([30, 27, 26, 27, 28, 33, 33, 27, 26, 26, 25, 30, 31, 32, 28, 31, 27,\n",
              "       28, 26, 33, 33, 28, 32, 26, 31, 34, 30, 29, 30, 30, 26, 33, 29, 33,\n",
              "       33, 30, 26, 31, 28, 30, 26, 29, 29, 34, 30, 29, 33, 27, 27, 30, 34,\n",
              "       33, 26, 28, 25, 29, 27, 29, 31, 33, 33, 27, 28, 27, 26, 26, 29, 32,\n",
              "       32, 27])"
            ]
          },
          "metadata": {},
          "execution_count": 178
        }
      ]
    },
    {
      "cell_type": "code",
      "source": [
        "def cvrttolist (listy) : \n",
        "  return listy.tolist()\n",
        "def extenddf(df,forecast):\n",
        "  a= cvrttolist(df)\n",
        "  b=cvrttolist(forecast)\n",
        "  a.extend(b)\n",
        "  return np.array(a) \n",
        "  \n",
        "def model_forecast(model, series, window_size):\n",
        "    ds = tf.data.Dataset.from_tensor_slices(series)\n",
        "    ds = ds.window(window_size, shift=1, drop_remainder=True)\n",
        "    ds = ds.flat_map(lambda w: w.batch(window_size))\n",
        "    ds = ds.batch(32).prefetch(1)\n",
        "    forecast = model.predict(ds)\n",
        "    return forecast\n",
        "\n",
        "    \n",
        "def forecasttemprature (df, hour):\n",
        "  temp = [] \n",
        "  for nexttemprature in range(hour) :\n",
        "    lstm_forecast2 = model_forecast(Temprature, df[..., np.newaxis], window_size)\n",
        "    lstm_forecast2 = lstm_forecast2[((len(df)-1) - window_size):-1, -1, 0]\n",
        "    df=extenddf(df,lstm_forecast2)\n",
        "  \n",
        "    lstm_forecast2 = model_forecast(Temprature, df[..., np.newaxis], window_size)\n",
        "    lstm_forecast2 = lstm_forecast2[((len(df)-1) - window_size):-1, -1, 0]\n",
        "    df=extenddf(df,lstm_forecast2)\n",
        "\n",
        "    df=cvrttolist(df)\n",
        "    a=df[-2]\n",
        "    df.remove(a)\n",
        "    df=np.array(df)\n",
        "\n",
        "  return cvrttolist(df[-hour:])\n",
        "\n",
        "def maketotabletemprature(thelist):\n",
        "  frames = {  \"Hour Forecast\":list(range(1,(len(thelist)) +1 ))  ,\"Temprature-Forecast\" :thelist   }\n",
        "  dfforecast = pd.DataFrame(frames)\n",
        " \n",
        "  return (dfforecast)\n",
        "\n",
        "\n",
        "  "
      ],
      "metadata": {
        "id": "6M1u9OMXYvw9"
      },
      "execution_count": 179,
      "outputs": []
    },
    {
      "cell_type": "code",
      "source": [
        "temporarydataframe = maketotabletemprature( forecasttemprature(cobacoba2,24))"
      ],
      "metadata": {
        "id": "2oOHgi3Nb6Nd"
      },
      "execution_count": 180,
      "outputs": []
    }
  ]
}