{
  "nbformat": 4,
  "nbformat_minor": 0,
  "metadata": {
    "colab": {
      "name": "Uv-Temprature Testing Model",
      "provenance": [],
      "collapsed_sections": []
    },
    "kernelspec": {
      "name": "python3",
      "display_name": "Python 3"
    },
    "language_info": {
      "name": "python"
    }
  },
  "cells": [
    {
      "cell_type": "code",
      "execution_count": 1,
      "metadata": {
        "colab": {
          "base_uri": "https://localhost:8080/"
        },
        "id": "1FrmYy05NUJy",
        "outputId": "c3d88309-c5a4-4784-b19f-ec9b642876f7"
      },
      "outputs": [
        {
          "output_type": "stream",
          "name": "stdout",
          "text": [
            "Mounted at /gdrive\n"
          ]
        }
      ],
      "source": [
        "import numpy as np\n",
        "import pandas as pd\n",
        "import tensorflow as tf\n",
        "import matplotlib.pyplot as plt\n",
        "import math \n",
        "from tensorflow import keras\n",
        "\n",
        "from google.colab import drive\n",
        "drive.mount('/gdrive')"
      ]
    },
    {
      "cell_type": "markdown",
      "source": [
        "Uv-Model Testing"
      ],
      "metadata": {
        "id": "jPru6cxuAyzP"
      }
    },
    {
      "cell_type": "code",
      "source": [
        "UvModel = tf.keras.models.load_model('/gdrive/MyDrive/saved_model/UvRadiation')\n",
        "# Check its architecture\n",
        "UvModel.summary()"
      ],
      "metadata": {
        "colab": {
          "base_uri": "https://localhost:8080/"
        },
        "id": "5qLVdbpbNb3W",
        "outputId": "33dbeab7-8441-4b89-ba64-be597a09822a"
      },
      "execution_count": 13,
      "outputs": [
        {
          "output_type": "stream",
          "name": "stdout",
          "text": [
            "Model: \"sequential\"\n",
            "_________________________________________________________________\n",
            " Layer (type)                Output Shape              Param #   \n",
            "=================================================================\n",
            " conv1d (Conv1D)             (None, None, 60)          360       \n",
            "                                                                 \n",
            " lstm (LSTM)                 (None, None, 64)          32000     \n",
            "                                                                 \n",
            " lstm_1 (LSTM)               (None, None, 128)         98816     \n",
            "                                                                 \n",
            " dense (Dense)               (None, None, 60)          7740      \n",
            "                                                                 \n",
            " dropout (Dropout)           (None, None, 60)          0         \n",
            "                                                                 \n",
            " dense_1 (Dense)             (None, None, 10)          610       \n",
            "                                                                 \n",
            " dense_2 (Dense)             (None, None, 1)           11        \n",
            "                                                                 \n",
            " lambda (Lambda)             (None, None, 1)           0         \n",
            "                                                                 \n",
            "=================================================================\n",
            "Total params: 139,537\n",
            "Trainable params: 139,537\n",
            "Non-trainable params: 0\n",
            "_________________________________________________________________\n"
          ]
        }
      ]
    },
    {
      "cell_type": "code",
      "source": [
        "cobacoba3 = np.random.randint(20,150,27) #random numbers for forecasting uv "
      ],
      "metadata": {
        "id": "Qf2rxgU6O6Z3"
      },
      "execution_count": 3,
      "outputs": []
    },
    {
      "cell_type": "code",
      "source": [
        "#predicting UV\n",
        "window_size=24\n",
        "def model_forecast(model, series, window_size):\n",
        "    ds = tf.data.Dataset.from_tensor_slices(series)\n",
        "    ds = ds.window(window_size, shift=1, drop_remainder=True)\n",
        "    ds = ds.flat_map(lambda w: w.batch(window_size))\n",
        "    ds = ds.batch(32).prefetch(1)\n",
        "    forecast = model.predict(ds)\n",
        "    return forecast\n",
        "\n",
        "def cvrttolist (listy) : \n",
        "  return listy.tolist()\n",
        "def extenddf(df,forecast):\n",
        "  a= cvrttolist(df)\n",
        "  b=cvrttolist(forecast)\n",
        "  a.extend(b)\n",
        "  return np.array(a) \n",
        "\n",
        "\n",
        "def forecastuv (df, hour):\n",
        "  for nextuv in range(hour) :\n",
        "    lstm_forecast2 = model_forecast(UvModel, df[..., np.newaxis], window_size)\n",
        "    lstm_forecast2 = lstm_forecast2[((len(df)-1) - window_size):-1, -1, 0]\n",
        "    df=extenddf(df,lstm_forecast2)\n",
        "\n",
        "    lstm_forecast2 = model_forecast(UvModel, df[..., np.newaxis], window_size)\n",
        "    lstm_forecast2 = lstm_forecast2[((len(df))-1 - window_size):-1, -1, 0]\n",
        "    df = extenddf(df,lstm_forecast2)\n",
        "\n",
        "    df=cvrttolist(df)\n",
        "    a=df[-2]\n",
        "    df.remove(a)\n",
        "    df=np.array(df)\n",
        "\n",
        "  return lstm_forecast2,\n",
        "\n",
        "forecastuv(cobacoba3,4)\n"
      ],
      "metadata": {
        "colab": {
          "base_uri": "https://localhost:8080/"
        },
        "id": "KKkcYSMnNoX5",
        "outputId": "eab70fab-4806-401d-991f-a3faf3115941"
      },
      "execution_count": 4,
      "outputs": [
        {
          "output_type": "execute_result",
          "data": {
            "text/plain": [
              "(array([76.35452], dtype=float32),)"
            ]
          },
          "metadata": {},
          "execution_count": 4
        }
      ]
    },
    {
      "cell_type": "markdown",
      "source": [
        "### TEMPRATURE Model Testing"
      ],
      "metadata": {
        "id": "DENyKwdxA0sb"
      }
    },
    {
      "cell_type": "code",
      "source": [
        "Temprature = tf.keras.models.load_model('/gdrive/MyDrive/saved_model/Temprature')\n",
        "# Check its architecture\n",
        "Temprature.summary()"
      ],
      "metadata": {
        "id": "P0Mnq1nnPSyN",
        "colab": {
          "base_uri": "https://localhost:8080/"
        },
        "outputId": "e0491c5c-19e1-4c76-fcd2-c850a44d0bf2"
      },
      "execution_count": 5,
      "outputs": [
        {
          "output_type": "stream",
          "name": "stdout",
          "text": [
            "Model: \"sequential\"\n",
            "_________________________________________________________________\n",
            " Layer (type)                Output Shape              Param #   \n",
            "=================================================================\n",
            " conv1d (Conv1D)             (None, None, 60)          360       \n",
            "                                                                 \n",
            " lstm (LSTM)                 (None, None, 64)          32000     \n",
            "                                                                 \n",
            " lstm_1 (LSTM)               (None, None, 64)          33024     \n",
            "                                                                 \n",
            " dense (Dense)               (None, None, 30)          1950      \n",
            "                                                                 \n",
            " dense_1 (Dense)             (None, None, 10)          310       \n",
            "                                                                 \n",
            " dense_2 (Dense)             (None, None, 1)           11        \n",
            "                                                                 \n",
            " lambda (Lambda)             (None, None, 1)           0         \n",
            "                                                                 \n",
            "=================================================================\n",
            "Total params: 67,655\n",
            "Trainable params: 67,655\n",
            "Non-trainable params: 0\n",
            "_________________________________________________________________\n"
          ]
        }
      ]
    },
    {
      "cell_type": "code",
      "source": [
        "cobacoba2 = np.random.randint(25,35,70) #random trial dataset for temprature\n",
        "cobacoba2"
      ],
      "metadata": {
        "colab": {
          "base_uri": "https://localhost:8080/"
        },
        "id": "hJAcE62kIFNe",
        "outputId": "a31bf8fe-e03c-405c-ba09-b1a67cd56e1a"
      },
      "execution_count": 7,
      "outputs": [
        {
          "output_type": "execute_result",
          "data": {
            "text/plain": [
              "array([34, 29, 31, 27, 30, 33, 29, 32, 26, 27, 32, 31, 28, 29, 27, 31, 30,\n",
              "       33, 26, 30, 27, 31, 32, 29, 32, 31, 28, 32, 29, 31, 29, 34, 29, 34,\n",
              "       32, 33, 26, 31, 26, 34, 28, 30, 25, 25, 25, 31, 29, 34, 31, 32, 31,\n",
              "       29, 28, 34, 34, 33, 29, 34, 34, 32, 32, 25, 29, 25, 27, 30, 33, 29,\n",
              "       27, 27])"
            ]
          },
          "metadata": {},
          "execution_count": 7
        }
      ]
    },
    {
      "cell_type": "code",
      "source": [
        "def cvrttolist (listy) : \n",
        "  return listy.tolist()\n",
        "def extenddf(df,forecast):\n",
        "  a= cvrttolist(df)\n",
        "  b=cvrttolist(forecast)\n",
        "  a.extend(b)\n",
        "  return np.array(a) \n",
        "  \n",
        "def model_forecast(model, series, window_size):\n",
        "    ds = tf.data.Dataset.from_tensor_slices(series)\n",
        "    ds = ds.window(window_size, shift=1, drop_remainder=True)\n",
        "    ds = ds.flat_map(lambda w: w.batch(window_size))\n",
        "    ds = ds.batch(32).prefetch(1)\n",
        "    forecast = model.predict(ds)\n",
        "    return forecast\n",
        "\n",
        "    \n",
        "def forecasttemprature (df, hour):\n",
        "  for nexttemprature in range(hour) :\n",
        "    lstm_forecast2 = model_forecast(Temprature, df[..., np.newaxis], window_size)\n",
        "    lstm_forecast2 = lstm_forecast2[((len(df)-1) - window_size):-1, -1, 0]\n",
        "    df=extenddf(df,lstm_forecast2)\n",
        "  \n",
        "    lstm_forecast2 = model_forecast(Temprature, df[..., np.newaxis], window_size)\n",
        "    lstm_forecast2 = lstm_forecast2[((len(df)-1) - window_size):-1, -1, 0]\n",
        "    df=extenddf(df,lstm_forecast2)\n",
        "\n",
        "    df=cvrttolist(df)\n",
        "    a=df[-2]\n",
        "    df.remove(a)\n",
        "    df=np.array(df)\n",
        "\n",
        "  return lstm_forecast2\n"
      ],
      "metadata": {
        "id": "FcYBPBEfA4ES"
      },
      "execution_count": 11,
      "outputs": []
    },
    {
      "cell_type": "code",
      "source": [
        "forecasttemprature(cobacoba2,2)"
      ],
      "metadata": {
        "id": "2oOHgi3Nb6Nd",
        "colab": {
          "base_uri": "https://localhost:8080/"
        },
        "outputId": "bcaa9ed6-1976-4977-a106-7df6154b5eb1"
      },
      "execution_count": 12,
      "outputs": [
        {
          "output_type": "execute_result",
          "data": {
            "text/plain": [
              "array([25.466871], dtype=float32)"
            ]
          },
          "metadata": {},
          "execution_count": 12
        }
      ]
    },
    {
      "cell_type": "code",
      "source": [
        ""
      ],
      "metadata": {
        "id": "eDbqOAWNGEXE"
      },
      "execution_count": null,
      "outputs": []
    },
    {
      "cell_type": "code",
      "source": [
        ""
      ],
      "metadata": {
        "id": "99FIgRVdCeQ3"
      },
      "execution_count": null,
      "outputs": []
    },
    {
      "cell_type": "code",
      "source": [
        ""
      ],
      "metadata": {
        "id": "utUvJVelDNMf"
      },
      "execution_count": null,
      "outputs": []
    },
    {
      "cell_type": "code",
      "source": [
        ""
      ],
      "metadata": {
        "id": "jqdE41WEDWSf"
      },
      "execution_count": null,
      "outputs": []
    },
    {
      "cell_type": "code",
      "source": [
        ""
      ],
      "metadata": {
        "id": "ybyRB0IoDuST"
      },
      "execution_count": null,
      "outputs": []
    },
    {
      "cell_type": "code",
      "source": [
        ""
      ],
      "metadata": {
        "id": "FWCdnFhgECfM"
      },
      "execution_count": null,
      "outputs": []
    }
  ]
}