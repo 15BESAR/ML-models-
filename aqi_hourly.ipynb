{
  "nbformat": 4,
  "nbformat_minor": 0,
  "metadata": {
    "accelerator": "GPU",
    "colab": {
      "name": "AQI_hourly.ipynb",
      "provenance": [],
      "collapsed_sections": []
    },
    "kernelspec": {
      "display_name": "Python 3",
      "name": "python3"
    },
    "language_info": {
      "name": "python"
    }
  },
  "cells": [
    {
      "cell_type": "code",
      "metadata": {
        "id": "sLl52leVp5wU"
      },
      "source": [
        "import csv\n",
        "import numpy as np\n",
        "import pandas as pd\n",
        "import tensorflow as tf\n",
        "import matplotlib.pyplot as plt\n",
        "\n",
        "def plot_series(time, series, format=\"-\", start=0, end=None):\n",
        "    plt.plot(time[start:end], series[start:end], format)\n",
        "    plt.xlabel(\"Time\")\n",
        "    plt.ylabel(\"Value\")\n",
        "    plt.grid(True)"
      ],
      "execution_count": 2,
      "outputs": []
    },
    {
      "cell_type": "code",
      "metadata": {
        "id": "NcG9r1eClbTh",
        "colab": {
          "base_uri": "https://localhost:8080/",
          "height": 51
        },
        "outputId": "661a22a3-ac30-4dae-e43d-409841a2d7cf"
      },
      "source": [
        "hour = []\n",
        "aqi = []\n",
        "\n",
        "with open('./AQI-Hourly-cleaned.csv') as csvfile:\n",
        "  reader = csv.reader(csvfile, delimiter=',')\n",
        "  next(reader)\n",
        "  step=0\n",
        "  for row in reader:\n",
        "    aqi.append(float(row[5]))\n",
        "    hour.append(row[0])\n",
        "\n",
        "series = np.array(aqi)\n",
        "time = np.array(hour)\n",
        "plt.figure(figsize=(10, 6))\n",
        "plot_series(time, series)"
      ],
      "execution_count": 3,
      "outputs": [
        {
          "output_type": "execute_result",
          "data": {
            "text/plain": [
              "<Figure size 720x432 with 0 Axes>"
            ]
          },
          "metadata": {},
          "execution_count": 3
        },
        {
          "output_type": "display_data",
          "data": {
            "text/plain": [
              "<Figure size 720x432 with 0 Axes>"
            ]
          },
          "metadata": {}
        }
      ]
    },
    {
      "cell_type": "code",
      "metadata": {
        "id": "L92YRw_IpCFG"
      },
      "source": [
        "split_time = 24399 #2016-2017 for validation set\n",
        "time_train = time[:split_time]\n",
        "x_train = series[:split_time]\n",
        "time_validate = time[split_time:]\n",
        "x_validate = series[split_time:]\n",
        "\n",
        "window_size = 60\n",
        "batch_size = 24\n",
        "shuffle_buffer_size = 1000"
      ],
      "execution_count": 4,
      "outputs": []
    },
    {
      "cell_type": "code",
      "metadata": {
        "id": "lJwUUZscnG38"
      },
      "source": [
        "def windowed_dataset(series, window_size, batch_size, shuffle_buffer):\n",
        "    series = tf.expand_dims(series, axis=-1)\n",
        "    ds = tf.data.Dataset.from_tensor_slices(series)\n",
        "    ds = ds.window(window_size + 1, shift=1, drop_remainder=True)\n",
        "    ds = ds.flat_map(lambda w: w.batch(window_size + 1))\n",
        "    ds = ds.shuffle(shuffle_buffer)\n",
        "    ds = ds.map(lambda w: (w[:-1], w[1:]))\n",
        "    return ds.batch(batch_size).prefetch(1)\n",
        "    \n",
        "def model_forecast(model, series, window_size):\n",
        "    ds = tf.data.Dataset.from_tensor_slices(series)\n",
        "    ds = ds.window(window_size, shift=1, drop_remainder=True)\n",
        "    ds = ds.flat_map(lambda w: w.batch(window_size))\n",
        "    ds = ds.batch(batch_size).prefetch(1)\n",
        "    return model.predict(ds)"
      ],
      "execution_count": 8,
      "outputs": []
    },
    {
      "cell_type": "code",
      "metadata": {
        "colab": {
          "base_uri": "https://localhost:8080/"
        },
        "id": "AclfYY3Mn6Ph",
        "outputId": "ac10f5c9-3081-4d5d-d75a-9a2684a1b2e0"
      },
      "source": [
        "tf.keras.backend.clear_session()\n",
        "tf.random.set_seed(51)\n",
        "np.random.seed(51)\n",
        "window_size = 60\n",
        "batch_size = 24\n",
        "train_set = windowed_dataset(x_train, window_size, batch_size, shuffle_buffer_size)\n",
        "print(train_set)\n",
        "print(x_train.shape)\n",
        "\n",
        "model = tf.keras.models.Sequential([\n",
        "  tf.keras.layers.Conv1D(filters=60, kernel_size=5,\n",
        "                      strides=1, padding=\"causal\",\n",
        "                      activation=\"relu\",\n",
        "                      input_shape=[None, 1]),\n",
        "  tf.keras.layers.LSTM(60, return_sequences=True),\n",
        "  tf.keras.layers.LSTM(60, return_sequences=True),\n",
        "  tf.keras.layers.Dense(30, activation=\"relu\"),\n",
        "  tf.keras.layers.Dense(10, activation=\"relu\"),\n",
        "  tf.keras.layers.Dense(1),\n",
        "  tf.keras.layers.Lambda(lambda x: x * 400)\n",
        "])\n",
        "\n",
        "lr_schedule = tf.keras.callbacks.LearningRateScheduler(\n",
        "    lambda epoch: 1e-7 * 10**(epoch / 20))\n",
        "optimizer = tf.keras.optimizers.SGD(learning_rate=1e-8, momentum=0.9)\n",
        "model.compile(loss=tf.keras.losses.Huber(), optimizer=optimizer, metrics=[\"mae\"])\n",
        "history = model.fit(train_set, epochs=50, callbacks=[lr_schedule])\n"
      ],
      "execution_count": 7,
      "outputs": [
        {
          "output_type": "stream",
          "name": "stdout",
          "text": [
            "<PrefetchDataset element_spec=(TensorSpec(shape=(None, None, 1), dtype=tf.float64, name=None), TensorSpec(shape=(None, None, 1), dtype=tf.float64, name=None))>\n",
            "(24399,)\n",
            "Epoch 1/50\n",
            "1015/1015 [==============================] - 28s 13ms/step - loss: 25.6451 - mae: 26.1362 - lr: 1.0000e-07\n",
            "Epoch 2/50\n",
            "1015/1015 [==============================] - 12s 12ms/step - loss: 18.5852 - mae: 19.0730 - lr: 1.1220e-07\n",
            "Epoch 3/50\n",
            "1015/1015 [==============================] - 13s 13ms/step - loss: 15.5130 - mae: 15.9991 - lr: 1.2589e-07\n",
            "Epoch 4/50\n",
            "1015/1015 [==============================] - 13s 13ms/step - loss: 13.7675 - mae: 14.2525 - lr: 1.4125e-07\n",
            "Epoch 5/50\n",
            "1015/1015 [==============================] - 13s 13ms/step - loss: 12.6585 - mae: 13.1422 - lr: 1.5849e-07\n",
            "Epoch 6/50\n",
            "1015/1015 [==============================] - 13s 13ms/step - loss: 12.0008 - mae: 12.4834 - lr: 1.7783e-07\n",
            "Epoch 7/50\n",
            "1015/1015 [==============================] - 13s 12ms/step - loss: 11.4386 - mae: 11.9204 - lr: 1.9953e-07\n",
            "Epoch 8/50\n",
            "1015/1015 [==============================] - 13s 12ms/step - loss: 10.9844 - mae: 11.4655 - lr: 2.2387e-07\n",
            "Epoch 9/50\n",
            "1015/1015 [==============================] - 13s 12ms/step - loss: 10.6522 - mae: 11.1329 - lr: 2.5119e-07\n",
            "Epoch 10/50\n",
            "1015/1015 [==============================] - 13s 12ms/step - loss: 10.4962 - mae: 10.9766 - lr: 2.8184e-07\n",
            "Epoch 11/50\n",
            "1015/1015 [==============================] - 13s 12ms/step - loss: 10.1712 - mae: 10.6513 - lr: 3.1623e-07\n",
            "Epoch 12/50\n",
            "1015/1015 [==============================] - 13s 12ms/step - loss: 10.0301 - mae: 10.5101 - lr: 3.5481e-07\n",
            "Epoch 13/50\n",
            "1015/1015 [==============================] - 12s 12ms/step - loss: 9.8217 - mae: 10.3014 - lr: 3.9811e-07\n",
            "Epoch 14/50\n",
            "1015/1015 [==============================] - 12s 12ms/step - loss: 9.7719 - mae: 10.2514 - lr: 4.4668e-07\n",
            "Epoch 15/50\n",
            "1015/1015 [==============================] - 13s 12ms/step - loss: 9.6277 - mae: 10.1069 - lr: 5.0119e-07\n",
            "Epoch 16/50\n",
            "1015/1015 [==============================] - 13s 12ms/step - loss: 9.6312 - mae: 10.1104 - lr: 5.6234e-07\n",
            "Epoch 17/50\n",
            "1015/1015 [==============================] - 14s 13ms/step - loss: 9.3910 - mae: 9.8699 - lr: 6.3096e-07\n",
            "Epoch 18/50\n",
            "1015/1015 [==============================] - 13s 13ms/step - loss: 9.4388 - mae: 9.9176 - lr: 7.0795e-07\n",
            "Epoch 19/50\n",
            "1015/1015 [==============================] - 13s 13ms/step - loss: 9.4502 - mae: 9.9293 - lr: 7.9433e-07\n",
            "Epoch 20/50\n",
            "1015/1015 [==============================] - 13s 12ms/step - loss: 9.3815 - mae: 9.8604 - lr: 8.9125e-07\n",
            "Epoch 21/50\n",
            "1015/1015 [==============================] - 13s 13ms/step - loss: 9.3207 - mae: 9.7996 - lr: 1.0000e-06\n",
            "Epoch 22/50\n",
            "1015/1015 [==============================] - 13s 13ms/step - loss: 9.1899 - mae: 9.6686 - lr: 1.1220e-06\n",
            "Epoch 23/50\n",
            "1015/1015 [==============================] - 13s 13ms/step - loss: 9.2804 - mae: 9.7594 - lr: 1.2589e-06\n",
            "Epoch 24/50\n",
            "1015/1015 [==============================] - 13s 13ms/step - loss: 9.1341 - mae: 9.6131 - lr: 1.4125e-06\n",
            "Epoch 25/50\n",
            "1015/1015 [==============================] - 13s 12ms/step - loss: 9.0403 - mae: 9.5193 - lr: 1.5849e-06\n",
            "Epoch 26/50\n",
            "1015/1015 [==============================] - 14s 14ms/step - loss: 9.3013 - mae: 9.7805 - lr: 1.7783e-06\n",
            "Epoch 27/50\n",
            "1015/1015 [==============================] - 13s 12ms/step - loss: 9.1857 - mae: 9.6651 - lr: 1.9953e-06\n",
            "Epoch 28/50\n",
            "1015/1015 [==============================] - 14s 13ms/step - loss: 9.0035 - mae: 9.4825 - lr: 2.2387e-06\n",
            "Epoch 29/50\n",
            "1015/1015 [==============================] - 17s 17ms/step - loss: 9.0496 - mae: 9.5285 - lr: 2.5119e-06\n",
            "Epoch 30/50\n",
            "1015/1015 [==============================] - 13s 13ms/step - loss: 8.8088 - mae: 9.2874 - lr: 2.8184e-06\n",
            "Epoch 31/50\n",
            "1015/1015 [==============================] - 17s 17ms/step - loss: 8.9654 - mae: 9.4444 - lr: 3.1623e-06\n",
            "Epoch 32/50\n",
            "1015/1015 [==============================] - 18s 17ms/step - loss: 9.1725 - mae: 9.6520 - lr: 3.5481e-06\n",
            "Epoch 33/50\n",
            "1015/1015 [==============================] - 15s 14ms/step - loss: 8.8980 - mae: 9.3769 - lr: 3.9811e-06\n",
            "Epoch 34/50\n",
            "1015/1015 [==============================] - 13s 12ms/step - loss: 8.8874 - mae: 9.3662 - lr: 4.4668e-06\n",
            "Epoch 35/50\n",
            "1015/1015 [==============================] - 14s 14ms/step - loss: 8.7682 - mae: 9.2469 - lr: 5.0119e-06\n",
            "Epoch 36/50\n",
            "1015/1015 [==============================] - 15s 15ms/step - loss: 9.3176 - mae: 9.7973 - lr: 5.6234e-06\n",
            "Epoch 37/50\n",
            "1015/1015 [==============================] - 17s 16ms/step - loss: 9.0859 - mae: 9.5656 - lr: 6.3096e-06\n",
            "Epoch 38/50\n",
            "1015/1015 [==============================] - 14s 13ms/step - loss: 8.8802 - mae: 9.3591 - lr: 7.0795e-06\n",
            "Epoch 39/50\n",
            "1015/1015 [==============================] - 15s 15ms/step - loss: 8.9127 - mae: 9.3921 - lr: 7.9433e-06\n",
            "Epoch 40/50\n",
            "1015/1015 [==============================] - 15s 14ms/step - loss: 9.1016 - mae: 9.5811 - lr: 8.9125e-06\n",
            "Epoch 41/50\n",
            "1015/1015 [==============================] - 14s 13ms/step - loss: 9.1891 - mae: 9.6688 - lr: 1.0000e-05\n",
            "Epoch 42/50\n",
            "1015/1015 [==============================] - 13s 13ms/step - loss: 8.9124 - mae: 9.3914 - lr: 1.1220e-05\n",
            "Epoch 43/50\n",
            "1015/1015 [==============================] - 13s 13ms/step - loss: 8.9480 - mae: 9.4274 - lr: 1.2589e-05\n",
            "Epoch 44/50\n",
            "1015/1015 [==============================] - 13s 12ms/step - loss: 8.9908 - mae: 9.4703 - lr: 1.4125e-05\n",
            "Epoch 45/50\n",
            "1015/1015 [==============================] - 15s 14ms/step - loss: 9.2426 - mae: 9.7221 - lr: 1.5849e-05\n",
            "Epoch 46/50\n",
            "1015/1015 [==============================] - 19s 18ms/step - loss: 9.2392 - mae: 9.7194 - lr: 1.7783e-05\n",
            "Epoch 47/50\n",
            "1015/1015 [==============================] - 15s 15ms/step - loss: 8.9296 - mae: 9.4088 - lr: 1.9953e-05\n",
            "Epoch 48/50\n",
            "1015/1015 [==============================] - 14s 14ms/step - loss: 8.8709 - mae: 9.3501 - lr: 2.2387e-05\n",
            "Epoch 49/50\n",
            "1015/1015 [==============================] - 14s 13ms/step - loss: 9.6961 - mae: 10.1767 - lr: 2.5119e-05\n",
            "Epoch 50/50\n",
            "1015/1015 [==============================] - 13s 13ms/step - loss: 9.2852 - mae: 9.7652 - lr: 2.8184e-05\n"
          ]
        }
      ]
    },
    {
      "cell_type": "code",
      "metadata": {
        "id": "vVcKmg7Q_7rD",
        "colab": {
          "base_uri": "https://localhost:8080/",
          "height": 290
        },
        "outputId": "6b963a8a-3fe4-412e-c6e4-e12dde038b4d"
      },
      "source": [
        "plt.semilogx(history.history[\"lr\"], history.history[\"loss\"])\n",
        "plt.axis([1e-7, 3e-5, 0, 60])"
      ],
      "execution_count": 9,
      "outputs": [
        {
          "output_type": "execute_result",
          "data": {
            "text/plain": [
              "(1e-07, 3e-05, 0.0, 60.0)"
            ]
          },
          "metadata": {},
          "execution_count": 9
        },
        {
          "output_type": "display_data",
          "data": {
            "text/plain": [
              "<Figure size 432x288 with 1 Axes>"
            ],
            "image/png": "[encoded data removed]"
          },
          "metadata": {
            "needs_background": "light"
          }
        }
      ]
    },
    {
      "cell_type": "code",
      "metadata": {
        "id": "QsksvkcXAAgq",
        "colab": {
          "base_uri": "https://localhost:8080/"
        },
        "outputId": "7c649acc-44cf-46b4-f679-cb6b53dd7f57"
      },
      "source": [
        "tf.keras.backend.clear_session()\n",
        "tf.random.set_seed(51)\n",
        "np.random.seed(51)\n",
        "train_set = windowed_dataset(x_train, window_size=batch_size, batch_size=batch_size, shuffle_buffer=shuffle_buffer_size)\n",
        "model = tf.keras.models.Sequential([\n",
        "  tf.keras.layers.Conv1D(filters=60, kernel_size=5,\n",
        "                      strides=1, padding=\"causal\",\n",
        "                      activation=\"relu\",\n",
        "                      input_shape=[None, 1]),\n",
        "  tf.keras.layers.LSTM(60, return_sequences=True),\n",
        "  tf.keras.layers.LSTM(60, return_sequences=True),\n",
        "  tf.keras.layers.Dense(30, activation=\"relu\"),\n",
        "  tf.keras.layers.Dense(10, activation=\"relu\"),\n",
        "  tf.keras.layers.Dense(1),\n",
        "  tf.keras.layers.Lambda(lambda x: x * 400)\n",
        "])\n",
        "\n",
        "optimizer = tf.keras.optimizers.SGD(learning_rate=7.1e-6, momentum=0.9)\n",
        "model.compile(loss=tf.keras.losses.Huber(), optimizer=optimizer, metrics=[\"mae\"])\n",
        "history = model.fit(train_set,epochs=100)"
      ],
      "execution_count": 17,
      "outputs": [
        {
          "output_type": "stream",
          "name": "stdout",
          "text": [
            "Epoch 1/100\n",
            "1016/1016 [==============================] - 13s 10ms/step - loss: 13.7301 - mae: 14.2141\n",
            "Epoch 2/100\n",
            "1016/1016 [==============================] - 10s 10ms/step - loss: 10.5720 - mae: 11.0534\n",
            "Epoch 3/100\n",
            "1016/1016 [==============================] - 10s 10ms/step - loss: 9.7581 - mae: 10.2381\n",
            "Epoch 4/100\n",
            "1016/1016 [==============================] - 11s 10ms/step - loss: 9.4002 - mae: 9.8797\n",
            "Epoch 5/100\n",
            "1016/1016 [==============================] - 10s 10ms/step - loss: 9.0528 - mae: 9.5318\n",
            "Epoch 6/100\n",
            "1016/1016 [==============================] - 10s 10ms/step - loss: 8.9204 - mae: 9.3993\n",
            "Epoch 7/100\n",
            "1016/1016 [==============================] - 10s 10ms/step - loss: 8.8223 - mae: 9.3010\n",
            "Epoch 8/100\n",
            "1016/1016 [==============================] - 10s 9ms/step - loss: 8.7662 - mae: 9.2447\n",
            "Epoch 9/100\n",
            "1016/1016 [==============================] - 10s 10ms/step - loss: 8.6518 - mae: 9.1301\n",
            "Epoch 10/100\n",
            "1016/1016 [==============================] - 10s 10ms/step - loss: 8.7852 - mae: 9.2636\n",
            "Epoch 11/100\n",
            "1016/1016 [==============================] - 10s 10ms/step - loss: 8.5974 - mae: 9.0754\n",
            "Epoch 12/100\n",
            "1016/1016 [==============================] - 10s 10ms/step - loss: 8.5541 - mae: 9.0321\n",
            "Epoch 13/100\n",
            "1016/1016 [==============================] - 10s 10ms/step - loss: 8.5309 - mae: 9.0089\n",
            "Epoch 14/100\n",
            "1016/1016 [==============================] - 10s 10ms/step - loss: 8.5558 - mae: 9.0338\n",
            "Epoch 15/100\n",
            "1016/1016 [==============================] - 10s 10ms/step - loss: 8.4071 - mae: 8.8845\n",
            "Epoch 16/100\n",
            "1016/1016 [==============================] - 10s 10ms/step - loss: 8.4654 - mae: 8.9431\n",
            "Epoch 17/100\n",
            "1016/1016 [==============================] - 10s 10ms/step - loss: 8.4537 - mae: 8.9311\n",
            "Epoch 18/100\n",
            "1016/1016 [==============================] - 10s 10ms/step - loss: 8.4413 - mae: 8.9189\n",
            "Epoch 19/100\n",
            "1016/1016 [==============================] - 11s 10ms/step - loss: 8.4258 - mae: 8.9031\n",
            "Epoch 20/100\n",
            "1016/1016 [==============================] - 10s 10ms/step - loss: 8.3957 - mae: 8.8731\n",
            "Epoch 21/100\n",
            "1016/1016 [==============================] - 10s 10ms/step - loss: 8.4467 - mae: 8.9241\n",
            "Epoch 22/100\n",
            "1016/1016 [==============================] - 10s 10ms/step - loss: 8.3768 - mae: 8.8542\n",
            "Epoch 23/100\n",
            "1016/1016 [==============================] - 10s 10ms/step - loss: 8.4055 - mae: 8.8829\n",
            "Epoch 24/100\n",
            "1016/1016 [==============================] - 10s 10ms/step - loss: 8.3364 - mae: 8.8136\n",
            "Epoch 25/100\n",
            "1016/1016 [==============================] - 10s 10ms/step - loss: 8.3083 - mae: 8.7853\n",
            "Epoch 26/100\n",
            "1016/1016 [==============================] - 10s 10ms/step - loss: 8.3027 - mae: 8.7795\n",
            "Epoch 27/100\n",
            "1016/1016 [==============================] - 10s 10ms/step - loss: 8.3541 - mae: 8.8314\n",
            "Epoch 28/100\n",
            "1016/1016 [==============================] - 10s 10ms/step - loss: 8.4526 - mae: 8.9299\n",
            "Epoch 29/100\n",
            "1016/1016 [==============================] - 10s 10ms/step - loss: 8.3315 - mae: 8.8085\n",
            "Epoch 30/100\n",
            "1016/1016 [==============================] - 10s 10ms/step - loss: 8.3653 - mae: 8.8425\n",
            "Epoch 31/100\n",
            "1016/1016 [==============================] - 10s 10ms/step - loss: 8.4024 - mae: 8.8796\n",
            "Epoch 32/100\n",
            "1016/1016 [==============================] - 10s 10ms/step - loss: 8.4054 - mae: 8.8825\n",
            "Epoch 33/100\n",
            "1016/1016 [==============================] - 10s 10ms/step - loss: 8.3373 - mae: 8.8145\n",
            "Epoch 34/100\n",
            "1016/1016 [==============================] - 10s 10ms/step - loss: 8.2504 - mae: 8.7273\n",
            "Epoch 35/100\n",
            "1016/1016 [==============================] - 10s 10ms/step - loss: 8.2668 - mae: 8.7439\n",
            "Epoch 36/100\n",
            "1016/1016 [==============================] - 10s 10ms/step - loss: 8.2684 - mae: 8.7453\n",
            "Epoch 37/100\n",
            "1016/1016 [==============================] - 11s 10ms/step - loss: 8.2667 - mae: 8.7437\n",
            "Epoch 38/100\n",
            "1016/1016 [==============================] - 10s 10ms/step - loss: 8.2701 - mae: 8.7471\n",
            "Epoch 39/100\n",
            "1016/1016 [==============================] - 10s 10ms/step - loss: 8.2553 - mae: 8.7321\n",
            "Epoch 40/100\n",
            "1016/1016 [==============================] - 10s 10ms/step - loss: 8.3047 - mae: 8.7817\n",
            "Epoch 41/100\n",
            "1016/1016 [==============================] - 10s 10ms/step - loss: 8.2215 - mae: 8.6982\n",
            "Epoch 42/100\n",
            "1016/1016 [==============================] - 10s 10ms/step - loss: 8.1929 - mae: 8.6695\n",
            "Epoch 43/100\n",
            "1016/1016 [==============================] - 10s 10ms/step - loss: 8.1983 - mae: 8.6750\n",
            "Epoch 44/100\n",
            "1016/1016 [==============================] - 10s 10ms/step - loss: 8.2771 - mae: 8.7540\n",
            "Epoch 45/100\n",
            "1016/1016 [==============================] - 10s 10ms/step - loss: 8.2505 - mae: 8.7275\n",
            "Epoch 46/100\n",
            "1016/1016 [==============================] - 10s 10ms/step - loss: 8.2252 - mae: 8.7019\n",
            "Epoch 47/100\n",
            "1016/1016 [==============================] - 10s 10ms/step - loss: 8.2295 - mae: 8.7061\n",
            "Epoch 48/100\n",
            "1016/1016 [==============================] - 10s 10ms/step - loss: 8.2525 - mae: 8.7295\n",
            "Epoch 49/100\n",
            "1016/1016 [==============================] - 10s 10ms/step - loss: 8.2066 - mae: 8.6834\n",
            "Epoch 50/100\n",
            "1016/1016 [==============================] - 10s 10ms/step - loss: 8.2216 - mae: 8.6984\n",
            "Epoch 51/100\n",
            "1016/1016 [==============================] - 10s 10ms/step - loss: 8.1881 - mae: 8.6647\n",
            "Epoch 52/100\n",
            "1016/1016 [==============================] - 10s 10ms/step - loss: 8.1924 - mae: 8.6690\n",
            "Epoch 53/100\n",
            "1016/1016 [==============================] - 10s 10ms/step - loss: 8.1781 - mae: 8.6546\n",
            "Epoch 54/100\n",
            "1016/1016 [==============================] - 10s 10ms/step - loss: 8.2650 - mae: 8.7420\n",
            "Epoch 55/100\n",
            "1016/1016 [==============================] - 10s 10ms/step - loss: 8.2206 - mae: 8.6973\n",
            "Epoch 56/100\n",
            "1016/1016 [==============================] - 11s 10ms/step - loss: 8.1776 - mae: 8.6543\n",
            "Epoch 57/100\n",
            "1016/1016 [==============================] - 11s 11ms/step - loss: 8.1843 - mae: 8.6609\n",
            "Epoch 58/100\n",
            "1016/1016 [==============================] - 10s 10ms/step - loss: 8.1791 - mae: 8.6557\n",
            "Epoch 59/100\n",
            "1016/1016 [==============================] - 10s 10ms/step - loss: 8.1837 - mae: 8.6604\n",
            "Epoch 60/100\n",
            "1016/1016 [==============================] - 10s 10ms/step - loss: 8.2162 - mae: 8.6928\n",
            "Epoch 61/100\n",
            "1016/1016 [==============================] - 10s 10ms/step - loss: 8.1986 - mae: 8.6752\n",
            "Epoch 62/100\n",
            "1016/1016 [==============================] - 10s 10ms/step - loss: 8.1954 - mae: 8.6720\n",
            "Epoch 63/100\n",
            "1016/1016 [==============================] - 10s 10ms/step - loss: 8.1597 - mae: 8.6361\n",
            "Epoch 64/100\n",
            "1016/1016 [==============================] - 10s 9ms/step - loss: 8.1511 - mae: 8.6277\n",
            "Epoch 65/100\n",
            "1016/1016 [==============================] - 10s 10ms/step - loss: 8.1850 - mae: 8.6615\n",
            "Epoch 66/100\n",
            "1016/1016 [==============================] - 11s 10ms/step - loss: 8.1716 - mae: 8.6481\n",
            "Epoch 67/100\n",
            "1016/1016 [==============================] - 10s 10ms/step - loss: 8.1532 - mae: 8.6298\n",
            "Epoch 68/100\n",
            "1016/1016 [==============================] - 10s 10ms/step - loss: 8.1498 - mae: 8.6263\n",
            "Epoch 69/100\n",
            "1016/1016 [==============================] - 10s 10ms/step - loss: 8.1422 - mae: 8.6188\n",
            "Epoch 70/100\n",
            "1016/1016 [==============================] - 10s 10ms/step - loss: 8.1527 - mae: 8.6292\n",
            "Epoch 71/100\n",
            "1016/1016 [==============================] - 10s 10ms/step - loss: 8.1895 - mae: 8.6659\n",
            "Epoch 72/100\n",
            "1016/1016 [==============================] - 10s 10ms/step - loss: 8.1493 - mae: 8.6256\n",
            "Epoch 73/100\n",
            "1016/1016 [==============================] - 10s 10ms/step - loss: 8.1529 - mae: 8.6293\n",
            "Epoch 74/100\n",
            "1016/1016 [==============================] - 10s 10ms/step - loss: 8.1504 - mae: 8.6270\n",
            "Epoch 75/100\n",
            "1016/1016 [==============================] - 10s 10ms/step - loss: 8.1364 - mae: 8.6128\n",
            "Epoch 76/100\n",
            "1016/1016 [==============================] - 10s 10ms/step - loss: 8.1712 - mae: 8.6478\n",
            "Epoch 77/100\n",
            "1016/1016 [==============================] - 10s 10ms/step - loss: 8.1359 - mae: 8.6123\n",
            "Epoch 78/100\n",
            "1016/1016 [==============================] - 10s 10ms/step - loss: 8.1789 - mae: 8.6552\n",
            "Epoch 79/100\n",
            "1016/1016 [==============================] - 10s 10ms/step - loss: 8.1447 - mae: 8.6212\n",
            "Epoch 80/100\n",
            "1016/1016 [==============================] - 10s 10ms/step - loss: 8.1433 - mae: 8.6197\n",
            "Epoch 81/100\n",
            "1016/1016 [==============================] - 10s 10ms/step - loss: 8.1216 - mae: 8.5981\n",
            "Epoch 82/100\n",
            "1016/1016 [==============================] - 10s 10ms/step - loss: 8.1570 - mae: 8.6335\n",
            "Epoch 83/100\n",
            "1016/1016 [==============================] - 10s 10ms/step - loss: 8.0945 - mae: 8.5708\n",
            "Epoch 84/100\n",
            "1016/1016 [==============================] - 10s 10ms/step - loss: 8.1160 - mae: 8.5925\n",
            "Epoch 85/100\n",
            "1016/1016 [==============================] - 10s 10ms/step - loss: 8.1133 - mae: 8.5896\n",
            "Epoch 86/100\n",
            "1016/1016 [==============================] - 10s 10ms/step - loss: 8.1642 - mae: 8.6406\n",
            "Epoch 87/100\n",
            "1016/1016 [==============================] - 10s 10ms/step - loss: 8.1544 - mae: 8.6308\n",
            "Epoch 88/100\n",
            "1016/1016 [==============================] - 10s 10ms/step - loss: 8.1012 - mae: 8.5774\n",
            "Epoch 89/100\n",
            "1016/1016 [==============================] - 10s 10ms/step - loss: 8.0994 - mae: 8.5757\n",
            "Epoch 90/100\n",
            "1016/1016 [==============================] - 10s 10ms/step - loss: 8.0900 - mae: 8.5663\n",
            "Epoch 91/100\n",
            "1016/1016 [==============================] - 10s 10ms/step - loss: 8.1520 - mae: 8.6285\n",
            "Epoch 92/100\n",
            "1016/1016 [==============================] - 10s 10ms/step - loss: 8.1278 - mae: 8.6043\n",
            "Epoch 93/100\n",
            "1016/1016 [==============================] - 10s 10ms/step - loss: 8.0902 - mae: 8.5663\n",
            "Epoch 94/100\n",
            "1016/1016 [==============================] - 10s 10ms/step - loss: 8.0680 - mae: 8.5441\n",
            "Epoch 95/100\n",
            "1016/1016 [==============================] - 10s 10ms/step - loss: 8.1164 - mae: 8.5928\n",
            "Epoch 96/100\n",
            "1016/1016 [==============================] - 10s 10ms/step - loss: 8.0821 - mae: 8.5583\n",
            "Epoch 97/100\n",
            "1016/1016 [==============================] - 10s 10ms/step - loss: 8.1029 - mae: 8.5792\n",
            "Epoch 98/100\n",
            "1016/1016 [==============================] - 10s 10ms/step - loss: 8.0778 - mae: 8.5541\n",
            "Epoch 99/100\n",
            "1016/1016 [==============================] - 10s 10ms/step - loss: 8.0767 - mae: 8.5528\n",
            "Epoch 100/100\n",
            "1016/1016 [==============================] - 10s 10ms/step - loss: 8.1206 - mae: 8.5969\n"
          ]
        }
      ]
    },
    {
      "cell_type": "code",
      "metadata": {
        "id": "GaC6NNMRp0lb"
      },
      "source": [
        "rnn_forecast = model_forecast(model, series[..., np.newaxis], window_size)\n",
        "rnn_forecast = rnn_forecast[split_time - window_size:-1, -1, 0]"
      ],
      "execution_count": 18,
      "outputs": []
    },
    {
      "cell_type": "code",
      "metadata": {
        "id": "PrktQX3hKYex",
        "colab": {
          "base_uri": "https://localhost:8080/",
          "height": 388
        },
        "outputId": "65a3919e-40a7-4f6b-ffff-12b1b94235e8"
      },
      "source": [
        "plt.figure(figsize=(10, 6))\n",
        "plot_series(time_validate, x_validate)\n",
        "plot_series(time_validate, rnn_forecast)"
      ],
      "execution_count": 19,
      "outputs": [
        {
          "output_type": "display_data",
          "data": {
            "text/plain": [
              "<Figure size 720x432 with 1 Axes>"
            ],
            "image/png": "[encoded data removed]"
          },
          "metadata": {
            "needs_background": "light"
          }
        }
      ]
    },
    {
      "cell_type": "code",
      "metadata": {
        "id": "13XrorC5wQoE",
        "colab": {
          "base_uri": "https://localhost:8080/"
        },
        "outputId": "61c6e63e-18c5-49e2-8578-922012b9124b"
      },
      "source": [
        "print(\"MAE = \" + str(tf.keras.metrics.mean_absolute_error(x_valid, rnn_forecast).numpy()))\n",
        "print(\"MAPE = \" + str(tf.keras.metrics.mean_absolute_percentage_error(x_valid, rnn_forecast).numpy()))"
      ],
      "execution_count": 20,
      "outputs": [
        {
          "output_type": "stream",
          "name": "stdout",
          "text": [
            "MAE = 9.021401\n",
            "MAPE = 27.415276\n"
          ]
        }
      ]
    },
    {
      "cell_type": "code",
      "metadata": {
        "id": "AOVzQXxCwkzP",
        "colab": {
          "base_uri": "https://localhost:8080/"
        },
        "outputId": "7846eaf2-b443-4cea-b0d8-cc712c660ffd"
      },
      "source": [
        "print(rnn_forecast)"
      ],
      "execution_count": 21,
      "outputs": [
        {
          "output_type": "stream",
          "name": "stdout",
          "text": [
            "[92.31908  96.72063  85.47972  ... 12.525868  9.912601  9.880913]\n"
          ]
        }
      ]
    },
    {
      "cell_type": "code",
      "source": [
        "#Store forecast values to dataframe\n",
        "data = {\"PM25\": x_validate, \"PM25-Forecast\": rnn_forecast}\n",
        "df_forecast = pd.DataFrame(data)"
      ],
      "metadata": {
        "id": "UcuduidZ52h1"
      },
      "execution_count": 24,
      "outputs": []
    },
    {
      "cell_type": "code",
      "source": [
        "df_forecast"
      ],
      "metadata": {
        "colab": {
          "base_uri": "https://localhost:8080/",
          "height": 419
        },
        "id": "B_rXbjcs6wnu",
        "outputId": "6f22b510-e0e4-4d65-f8c8-cb7092acfeeb"
      },
      "execution_count": 25,
      "outputs": [
        {
          "output_type": "execute_result",
          "data": {
            "text/plain": [
              "      PM25  PM25-Forecast\n",
              "0     98.0      92.319077\n",
              "1     90.0      96.720627\n",
              "2     82.0      85.479721\n",
              "3     89.0      76.773331\n",
              "4     84.0      88.081696\n",
              "...    ...            ...\n",
              "9881  11.0       8.637076\n",
              "9882  13.0      10.448045\n",
              "9883   9.0      12.525868\n",
              "9884  10.0       9.912601\n",
              "9885  13.0       9.880913\n",
              "\n",
              "[9886 rows x 2 columns]"
            ],
            "text/html": [
              "\n",
              "  <div id=\"df-775a8a11-77d0-4010-8a1a-4007dd48f606\">\n",
              "    <div class=\"colab-df-container\">\n",
              "      <div>\n",
              "<style scoped>\n",
              "    .dataframe tbody tr th:only-of-type {\n",
              "        vertical-align: middle;\n",
              "    }\n",
              "\n",
              "    .dataframe tbody tr th {\n",
              "        vertical-align: top;\n",
              "    }\n",
              "\n",
              "    .dataframe thead th {\n",
              "        text-align: right;\n",
              "    }\n",
              "</style>\n",
              "<table border=\"1\" class=\"dataframe\">\n",
              "  <thead>\n",
              "    <tr style=\"text-align: right;\">\n",
              "      <th></th>\n",
              "      <th>PM25</th>\n",
              "      <th>PM25-Forecast</th>\n",
              "    </tr>\n",
              "  </thead>\n",
              "  <tbody>\n",
              "    <tr>\n",
              "      <th>0</th>\n",
              "      <td>98.0</td>\n",
              "      <td>92.319077</td>\n",
              "    </tr>\n",
              "    <tr>\n",
              "      <th>1</th>\n",
              "      <td>90.0</td>\n",
              "      <td>96.720627</td>\n",
              "    </tr>\n",
              "    <tr>\n",
              "      <th>2</th>\n",
              "      <td>82.0</td>\n",
              "      <td>85.479721</td>\n",
              "    </tr>\n",
              "    <tr>\n",
              "      <th>3</th>\n",
              "      <td>89.0</td>\n",
              "      <td>76.773331</td>\n",
              "    </tr>\n",
              "    <tr>\n",
              "      <th>4</th>\n",
              "      <td>84.0</td>\n",
              "      <td>88.081696</td>\n",
              "    </tr>\n",
              "    <tr>\n",
              "      <th>...</th>\n",
              "      <td>...</td>\n",
              "      <td>...</td>\n",
              "    </tr>\n",
              "    <tr>\n",
              "      <th>9881</th>\n",
              "      <td>11.0</td>\n",
              "      <td>8.637076</td>\n",
              "    </tr>\n",
              "    <tr>\n",
              "      <th>9882</th>\n",
              "      <td>13.0</td>\n",
              "      <td>10.448045</td>\n",
              "    </tr>\n",
              "    <tr>\n",
              "      <th>9883</th>\n",
              "      <td>9.0</td>\n",
              "      <td>12.525868</td>\n",
              "    </tr>\n",
              "    <tr>\n",
              "      <th>9884</th>\n",
              "      <td>10.0</td>\n",
              "      <td>9.912601</td>\n",
              "    </tr>\n",
              "    <tr>\n",
              "      <th>9885</th>\n",
              "      <td>13.0</td>\n",
              "      <td>9.880913</td>\n",
              "    </tr>\n",
              "  </tbody>\n",
              "</table>\n",
              "<p>9886 rows × 2 columns</p>\n",
              "</div>\n",
              "      <button class=\"colab-df-convert\" onclick=\"convertToInteractive('df-775a8a11-77d0-4010-8a1a-4007dd48f606')\"\n",
              "              title=\"Convert this dataframe to an interactive table.\"\n",
              "              style=\"display:none;\">\n",
              "        \n",
              "  <svg xmlns=\"http://www.w3.org/2000/svg\" height=\"24px\"viewBox=\"0 0 24 24\"\n",
              "       width=\"24px\">\n",
              "    <path d=\"M0 0h24v24H0V0z\" fill=\"none\"/>\n",
              "    <path d=\"M18.56 5.44l.94 2.06.94-2.06 2.06-.94-2.06-.94-.94-2.06-.94 2.06-2.06.94zm-11 1L8.5 8.5l.94-2.06 2.06-.94-2.06-.94L8.5 2.5l-.94 2.06-2.06.94zm10 10l.94 2.06.94-2.06 2.06-.94-2.06-.94-.94-2.06-.94 2.06-2.06.94z\"/><path d=\"M17.41 7.96l-1.37-1.37c-.4-.4-.92-.59-1.43-.59-.52 0-1.04.2-1.43.59L10.3 9.45l-7.72 7.72c-.78.78-.78 2.05 0 2.83L4 21.41c.39.39.9.59 1.41.59.51 0 1.02-.2 1.41-.59l7.78-7.78 2.81-2.81c.8-.78.8-2.07 0-2.86zM5.41 20L4 18.59l7.72-7.72 1.47 1.35L5.41 20z\"/>\n",
              "  </svg>\n",
              "      </button>\n",
              "      \n",
              "  <style>\n",
              "    .colab-df-container {\n",
              "      display:flex;\n",
              "      flex-wrap:wrap;\n",
              "      gap: 12px;\n",
              "    }\n",
              "\n",
              "    .colab-df-convert {\n",
              "      background-color: #E8F0FE;\n",
              "      border: none;\n",
              "      border-radius: 50%;\n",
              "      cursor: pointer;\n",
              "      display: none;\n",
              "      fill: #1967D2;\n",
              "      height: 32px;\n",
              "      padding: 0 0 0 0;\n",
              "      width: 32px;\n",
              "    }\n",
              "\n",
              "    .colab-df-convert:hover {\n",
              "      background-color: #E2EBFA;\n",
              "      box-shadow: 0px 1px 2px rgba(60, 64, 67, 0.3), 0px 1px 3px 1px rgba(60, 64, 67, 0.15);\n",
              "      fill: #174EA6;\n",
              "    }\n",
              "\n",
              "    [theme=dark] .colab-df-convert {\n",
              "      background-color: #3B4455;\n",
              "      fill: #D2E3FC;\n",
              "    }\n",
              "\n",
              "    [theme=dark] .colab-df-convert:hover {\n",
              "      background-color: #434B5C;\n",
              "      box-shadow: 0px 1px 3px 1px rgba(0, 0, 0, 0.15);\n",
              "      filter: drop-shadow(0px 1px 2px rgba(0, 0, 0, 0.3));\n",
              "      fill: #FFFFFF;\n",
              "    }\n",
              "  </style>\n",
              "\n",
              "      <script>\n",
              "        const buttonEl =\n",
              "          document.querySelector('#df-775a8a11-77d0-4010-8a1a-4007dd48f606 button.colab-df-convert');\n",
              "        buttonEl.style.display =\n",
              "          google.colab.kernel.accessAllowed ? 'block' : 'none';\n",
              "\n",
              "        async function convertToInteractive(key) {\n",
              "          const element = document.querySelector('#df-775a8a11-77d0-4010-8a1a-4007dd48f606');\n",
              "          const dataTable =\n",
              "            await google.colab.kernel.invokeFunction('convertToInteractive',\n",
              "                                                     [key], {});\n",
              "          if (!dataTable) return;\n",
              "\n",
              "          const docLinkHtml = 'Like what you see? Visit the ' +\n",
              "            '<a target=\"_blank\" href=https://colab.research.google.com/notebooks/data_table.ipynb>data table notebook</a>'\n",
              "            + ' to learn more about interactive tables.';\n",
              "          element.innerHTML = '';\n",
              "          dataTable['output_type'] = 'display_data';\n",
              "          await google.colab.output.renderOutput(dataTable, element);\n",
              "          const docLink = document.createElement('div');\n",
              "          docLink.innerHTML = docLinkHtml;\n",
              "          element.appendChild(docLink);\n",
              "        }\n",
              "      </script>\n",
              "    </div>\n",
              "  </div>\n",
              "  "
            ]
          },
          "metadata": {},
          "execution_count": 25
        }
      ]
    },
    {
      "cell_type": "code",
      "source": [
        "!mkdir -p saved_model"
      ],
      "metadata": {
        "id": "6UbE6IgL7hzI"
      },
      "execution_count": 35,
      "outputs": []
    },
    {
      "cell_type": "code",
      "source": [
        "model.save('saved_model/AQI_hourly')"
      ],
      "metadata": {
        "colab": {
          "base_uri": "https://localhost:8080/"
        },
        "id": "V1KWORkg7E7N",
        "outputId": "d3946ce9-1a94-498d-de82-8f4d0375667d"
      },
      "execution_count": 36,
      "outputs": [
        {
          "output_type": "stream",
          "name": "stderr",
          "text": [
            "WARNING:absl:Found untraced functions such as lstm_cell_layer_call_fn, lstm_cell_layer_call_and_return_conditional_losses, lstm_cell_1_layer_call_fn, lstm_cell_1_layer_call_and_return_conditional_losses while saving (showing 4 of 4). These functions will not be directly callable after loading.\n"
          ]
        },
        {
          "output_type": "stream",
          "name": "stdout",
          "text": [
            "INFO:tensorflow:Assets written to: saved_model/AQI_hourly/assets\n"
          ]
        },
        {
          "output_type": "stream",
          "name": "stderr",
          "text": [
            "INFO:tensorflow:Assets written to: saved_model/AQI_hourly/assets\n",
            "WARNING:absl:<keras.layers.recurrent.LSTMCell object at 0x7fb590d15c90> has the same name 'LSTMCell' as a built-in Keras object. Consider renaming <class 'keras.layers.recurrent.LSTMCell'> to avoid naming conflicts when loading with `tf.keras.models.load_model`. If renaming is not possible, pass the object in the `custom_objects` parameter of the load function.\n",
            "WARNING:absl:<keras.layers.recurrent.LSTMCell object at 0x7fb5910cef10> has the same name 'LSTMCell' as a built-in Keras object. Consider renaming <class 'keras.layers.recurrent.LSTMCell'> to avoid naming conflicts when loading with `tf.keras.models.load_model`. If renaming is not possible, pass the object in the `custom_objects` parameter of the load function.\n"
          ]
        }
      ]
    },
    {
      "cell_type": "code",
      "source": [
        "aqi_model = tf.keras.models.load_model('saved_model/AQI_hourly')\n",
        "# Check its architecture\n",
        "aqi_model.summary()"
      ],
      "metadata": {
        "colab": {
          "base_uri": "https://localhost:8080/"
        },
        "id": "JnTUvZpz8u9u",
        "outputId": "a2298242-f20e-4c67-af0a-3dc9ddc65db3"
      },
      "execution_count": 41,
      "outputs": [
        {
          "output_type": "stream",
          "name": "stdout",
          "text": [
            "Model: \"sequential\"\n",
            "_________________________________________________________________\n",
            " Layer (type)                Output Shape              Param #   \n",
            "=================================================================\n",
            " conv1d (Conv1D)             (None, None, 60)          360       \n",
            "                                                                 \n",
            " lstm (LSTM)                 (None, None, 60)          29040     \n",
            "                                                                 \n",
            " lstm_1 (LSTM)               (None, None, 60)          29040     \n",
            "                                                                 \n",
            " dense (Dense)               (None, None, 30)          1830      \n",
            "                                                                 \n",
            " dense_1 (Dense)             (None, None, 10)          310       \n",
            "                                                                 \n",
            " dense_2 (Dense)             (None, None, 1)           11        \n",
            "                                                                 \n",
            " lambda (Lambda)             (None, None, 1)           0         \n",
            "                                                                 \n",
            "=================================================================\n",
            "Total params: 60,591\n",
            "Trainable params: 60,591\n",
            "Non-trainable params: 0\n",
            "_________________________________________________________________\n"
          ]
        }
      ]
    },
    {
      "cell_type": "code",
      "source": [
        "rnn_forecast = model_forecast(model, series[..., np.newaxis], window_size)\n",
        "rnn_forecast = rnn_forecast[split_time - window_size:-1, -1, 0]"
      ],
      "metadata": {
        "id": "-3HltWQo9Uqe"
      },
      "execution_count": 42,
      "outputs": []
    },
    {
      "cell_type": "code",
      "source": [
        "print(rnn_forecast)"
      ],
      "metadata": {
        "colab": {
          "base_uri": "https://localhost:8080/"
        },
        "id": "POu_eqNN9mAF",
        "outputId": "7159e275-49e6-4a40-e10c-cabc5a3a86b1"
      },
      "execution_count": 43,
      "outputs": [
        {
          "output_type": "stream",
          "name": "stdout",
          "text": [
            "[92.31908  96.72063  85.47972  ... 12.525868  9.912601  9.880913]\n"
          ]
        }
      ]
    }
  ]
}